{
 "cells": [
  {
   "cell_type": "markdown",
   "metadata": {},
   "source": [
    "# Hausaufgabe 2\n",
    "## Ablassung eines Stausees\n",
    "<!-- Lizensiert unter (CC BY 4.0) Gert Herold, 2023 -->\n",
    "\n",
    "Wegen Reparaturarbeiten an der Staumauer einer Talsperre soll das Wasser abgelassen werden. Der See habe ein Fassungsvermögen von $215 \\cdot 10^6\\,\\text{m}^3$. Die Oberfläche des Stausees erstrecke sich über $10\\,\\text{km}^2$. Der Wasserauslass auf Grundhöhe habe einen Querschnitt von $2\\,\\text{m}^2$. Der Fluss selbst werde so umgeleitet, dass kein Wasser in den See nachfließen kann."
   ]
  },
  {
   "cell_type": "markdown",
   "metadata": {},
   "source": [
    "### 1) Anfangsbedingungen\n",
    "\n",
    "**1.1) Es werde angenommen, die Form des Sees lasse sich mit einem umgedrehten [Kegel](https://de.wikipedia.org/wiki/Kegel_(Geometrie)) annähern. Wie tief ist dann der See?**\n",
    "\n",
    "Speichern Sie das Ergebnis (in Metern) in der Variablen `h0` und geben Sie sie aus."
   ]
  },
  {
   "cell_type": "code",
   "execution_count": null,
   "metadata": {},
   "outputs": [],
   "source": [
    "h0 = None \n",
    "# Hier eigenen Code schreiben ...\n"
   ]
  },
  {
   "cell_type": "code",
   "execution_count": null,
   "metadata": {
    "deletable": false,
    "editable": false,
    "tags": []
   },
   "outputs": [],
   "source": [
    "# Hier ist ein Plausibilitäts-Test:\n",
    "assert 60 < h0 < 80"
   ]
  },
  {
   "cell_type": "markdown",
   "metadata": {},
   "source": [
    "Vereinfachend werde angenommen, dass die sich ausbildende Strömung sich mithilfe der [Bernoulli-Gleichung](https://de.wikipedia.org/wiki/Bernoulli-Gleichung) beschreiben lasse:\n",
    "\n",
    "$$\n",
    "\\frac{u^2}{2}+\\frac{p}{\\rho}+g \\, z = \\text{const}\n",
    "$$\n",
    "\n",
    "Dabei beschreibt $u$ die Strömungsgeschwindigkeit des Fluids an einer beliebigen betrachteten Stelle, $p$ den hydrodynamischen Druck, $\\rho$ die Dichte und $z$ die Höhe. $g=9{,}81\\frac{\\text{m}}{\\text{s}^2}$ ist die Erdbeschleunigung. Werden nur die Seeoberfläche und der Ausfluss betrachtet, so kann der Druck $p$ ebenfalls als konstant angenommen werden, da er dem Umgebungsdruck entspricht. Ebenso wird die Dichte als konstant angenommen, und die obige Gleichung vereinfacht sich zu \n",
    "\n",
    "$$\n",
    "\\frac{u^2}{2}+g \\, z = \\text{const}\n",
    "$$\n",
    "\n",
    "bzw. für oben und unten:\n",
    "\n",
    "$$\n",
    "\\frac{u_\\text{oben}^2}{2}+g\\,z_\\text{oben} = \\frac{u_\\text{unten}^2}{2}+g\\,z_\\text{unten}\n",
    "$$"
   ]
  },
  {
   "cell_type": "markdown",
   "metadata": {},
   "source": [
    "**1.2) Berechnen Sie die sich anfangs ausbildende Strömungsgeschwindigkeit am Ausfluss $u_\\text{unten,0}$ (`u_unten0`) in m/s sowie den Volumenstrom $\\dot{V_0}$ (`Vdot0`) in m³/s unter der Annahme, dass die Bewegung der Seeoberfläche vernachlässigbar ist.**"
   ]
  },
  {
   "cell_type": "code",
   "execution_count": null,
   "metadata": {},
   "outputs": [],
   "source": [
    "u_unten0 = None\n",
    "Vdot0 = None\n",
    "# Hier eigenen Code schreiben ...\n"
   ]
  },
  {
   "cell_type": "code",
   "execution_count": null,
   "metadata": {
    "deletable": false,
    "editable": false,
    "tags": []
   },
   "outputs": [],
   "source": [
    "# Hier sind einige Plausibilitäts-Tests:\n",
    "assert u_unten0 > 30\n",
    "assert Vdot0 < 80"
   ]
  },
  {
   "cell_type": "markdown",
   "metadata": {},
   "source": [
    "Tipp: Um die Kreiszahl $\\pi$ unter Python verwenden zu können, muss man sie entweder selbst definieren oder z.B. aus dem [NumPy-Modul](https://numpy.org/) importieren. Für ein Beispiel den folgenden Code-Abschnitt öffnen."
   ]
  },
  {
   "cell_type": "code",
   "execution_count": null,
   "metadata": {
    "jupyter": {
     "source_hidden": true
    },
    "tags": []
   },
   "outputs": [],
   "source": [
    "# Importiere pi aus numpy\n",
    "from numpy import pi\n",
    "\n",
    "# Berechne den \"Radius\" der Seeoberfläche\n",
    "r0 = (A0/pi)**0.5\n",
    "print(f'Radius: {r0/1000:.2f} km')"
   ]
  },
  {
   "cell_type": "markdown",
   "metadata": {},
   "source": [
    "### 2) Leerung des Sees\n",
    "\n",
    "**2.1) Schreiben Sie eine Funktion, die die Tiefe des \"Kegel\"-Sees (in Metern) allgemein abhängig von der enthaltenen Wassermenge bestimmt.**\n",
    "\n",
    "Beachten Sie, dass sich die Form des Sees [nicht verändert](https://de.wikipedia.org/wiki/Strahlensatz) und somit der oben gegebene Wert für die Oberfläche nur bei vollem See gilt."
   ]
  },
  {
   "cell_type": "code",
   "execution_count": null,
   "metadata": {},
   "outputs": [],
   "source": [
    "def tiefe(V):\n",
    "    # Hier eigenen Code schreiben ...\n",
    "    "
   ]
  },
  {
   "cell_type": "code",
   "execution_count": null,
   "metadata": {
    "deletable": false,
    "editable": false,
    "tags": []
   },
   "outputs": [],
   "source": [
    "# Hier sind einige Plausibilitäts-Tests:\n",
    "assert abs(h0-tiefe(215e6)) < 1e-5\n",
    "assert abs(50-tiefe(1e8)) < 0.1"
   ]
  },
  {
   "cell_type": "markdown",
   "metadata": {},
   "source": [
    "**2.2) Schreiben Sie eine Funktion, die den diskreten Zeitverlauf der Wassertiefe $h(t)$ bis zur Leerung des Sees zurückgibt.**\n",
    "\n",
    "  * Die Funktion soll ein Startvolumen $V_0$ und eine Zeitschrittweite $\\Delta t$ übergeben bekommen.\n",
    "  * Verwenden Sie in den Berechnungen standardmäßig [SI-Einheiten](https://de.wikipedia.org/wiki/Internationales_Einheitensystem).\n",
    "  * Beachten Sie, dass sich auch der Volumenstrom zeitlich ändert.\n",
    "  * Die Funktion soll alle berechneten Zeiten und die jeweils zugehörigen Tiefen in zwei getrennten Listen zurückgeben.\n",
    "  \n",
    "Hinweis: Die Änderung des Volumens lässt sich annähernd über $V_{n+1}=V_n-\\dot{V_n} \\cdot \\Delta t$ beschreiben."
   ]
  },
  {
   "cell_type": "code",
   "execution_count": null,
   "metadata": {},
   "outputs": [],
   "source": [
    "def abfluss(V0, dt):\n",
    "    # Hier eigenen Code schreiben ...\n",
    "    "
   ]
  },
  {
   "cell_type": "code",
   "execution_count": null,
   "metadata": {
    "deletable": false,
    "editable": false,
    "tags": []
   },
   "outputs": [],
   "source": [
    "# Hier sind einige Plausibilitäts-Tests:\n",
    "assert len(abfluss(10,1))==2\n",
    "assert type(abfluss(10,1)[0])==type(abfluss(10,1)[1])==list"
   ]
  },
  {
   "cell_type": "markdown",
   "metadata": {},
   "source": [
    "**2.3) Wie lange dauert es, bis der Stausee komplett abgelassen wurde?** \n",
    "\n",
    "  * Plotten Sie den Zeitverlauf der Wassertiefe bis zur Leerung für zwei Zeitschrittweiten:\n",
    "    * $\\Delta t_1$ = 1 Minute\n",
    "    * $\\Delta t_2$ = 4 Tage\n",
    "  * Zeichnen Sie beide Verläufe in dasselbe Diagramm und diskutieren Sie Auffälligkeiten.\n",
    "\n",
    "_Hinweis: Der See kann auch als leer betrachtet werden, wenn im kommenden Zeitschritt mehr Wasser herausfließen würde als noch enthalten ist._"
   ]
  },
  {
   "cell_type": "code",
   "execution_count": null,
   "metadata": {},
   "outputs": [],
   "source": [
    "%matplotlib inline\n",
    "from matplotlib.pyplot import plot, show\n",
    "# Plotbefehl: plot(x_werte_liste, y_werte_liste)\n",
    "\n",
    "# Hier eigenen Code schreiben ...\n"
   ]
  },
  {
   "cell_type": "markdown",
   "metadata": {},
   "source": [
    "### 3) Anderer See\n",
    "\n",
    "Wiederholen Sie Aufgabenteil 2.3) unter der Annahme, dass der See bei gleichem Volumen und gleicher Oberfläche annähernd durch einen *Zylinder* beschrieben wird. Schreiben Sie hierfür möglichst wenig neuen Code."
   ]
  },
  {
   "cell_type": "code",
   "execution_count": null,
   "metadata": {},
   "outputs": [],
   "source": [
    "# Hier eigenen Code schreiben ...\n"
   ]
  }
 ],
 "metadata": {
  "kernelspec": {
   "display_name": "Python 3 (ipykernel)",
   "language": "python",
   "name": "python3"
  },
  "language_info": {
   "codemirror_mode": {
    "name": "ipython",
    "version": 3
   },
   "file_extension": ".py",
   "mimetype": "text/x-python",
   "name": "python",
   "nbconvert_exporter": "python",
   "pygments_lexer": "ipython3",
   "version": "3.10.9"
  }
 },
 "nbformat": 4,
 "nbformat_minor": 4
}
